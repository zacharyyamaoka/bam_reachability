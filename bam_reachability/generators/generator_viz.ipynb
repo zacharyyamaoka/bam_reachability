{
 "cells": [
  {
   "cell_type": "code",
   "execution_count": 15,
   "metadata": {},
   "outputs": [],
   "source": [
    "from bam_reachability.generators import TablePoseGenerator, visualize_frames, generate_deviation_vectors, generate_orthonormal_vectors, visualize_vectors, view_generator\n",
    "import numpy as np\n"
   ]
  },
  {
   "cell_type": "code",
   "execution_count": 3,
   "metadata": {},
   "outputs": [],
   "source": [
    "vectors = generate_deviation_vectors(\n",
    "    axis=(0, 0, -1),  # z-axis (this is what you want to table picking)\n",
    "    max_angle_rad=np.deg2rad(90),  # 90 degree cone\n",
    "    step_angle_rad=np.deg2rad(30)\n",
    ")\n",
    "visualize_vectors(vectors)\n"
   ]
  },
  {
   "cell_type": "code",
   "execution_count": 7,
   "metadata": {},
   "outputs": [],
   "source": [
    "vectors = generate_deviation_vectors(\n",
    "    axis=(0, 0, -1), \n",
    "    max_angle_rad=np.deg2rad(45),  # 45 degree cone\n",
    "    step_angle_rad=np.deg2rad(45)\n",
    ")\n",
    "visualize_vectors(vectors)"
   ]
  },
  {
   "cell_type": "code",
   "execution_count": 10,
   "metadata": {},
   "outputs": [
    {
     "name": "stdout",
     "output_type": "stream",
     "text": [
      "45 degree steps is to large! Only 6 vectors\n"
     ]
    }
   ],
   "source": [
    "vectors = generate_deviation_vectors(\n",
    "    axis=(0, 0, -1), \n",
    "    max_angle_rad=np.deg2rad(80),  # 45 degree cone\n",
    "    step_angle_rad=np.deg2rad(45) \n",
    ")\n",
    "visualize_vectors(vectors)\n",
    "print(f\"45 deg steps is to large! Only {len(vectors)} vectors\")"
   ]
  },
  {
   "cell_type": "code",
   "execution_count": 11,
   "metadata": {},
   "outputs": [
    {
     "name": "stdout",
     "output_type": "stream",
     "text": [
      "40 deg step, evenly divides 80 deg, Now there is 14 vectors\n"
     ]
    }
   ],
   "source": [
    "vectors = generate_deviation_vectors(\n",
    "    axis=(0, 0, -1), \n",
    "    max_angle_rad=np.deg2rad(80),  \n",
    "    step_angle_rad=np.deg2rad(40) \n",
    ")\n",
    "visualize_vectors(vectors)\n",
    "print(f\"40 deg step, evenly divides 80 deg, Now there is {len(vectors)} vectors\")"
   ]
  },
  {
   "cell_type": "code",
   "execution_count": 13,
   "metadata": {},
   "outputs": [],
   "source": [
    "vectors = generate_orthonormal_vectors(\n",
    "    axis = (0, 0, -1),\n",
    "    angle_step_rad = np.deg2rad(60),\n",
    "    start_vector=None)\n",
    "\n",
    "visualize_vectors(vectors)\n",
    "\n",
    "# This will look like a tire, with 360/60 = 6 spokes"
   ]
  },
  {
   "cell_type": "code",
   "execution_count": 25,
   "metadata": {},
   "outputs": [],
   "source": [
    "vectors = generate_orthonormal_vectors(\n",
    "    axis = (0, 0, -1),\n",
    "    angle_step_rad = np.deg2rad(120),\n",
    "    start_vector=(0.5, 0.5, 0)) # aligned on diagonal between x and y\n",
    "\n",
    "visualize_vectors(vectors)\n",
    "\n",
    "# Start vector sets the first spoke"
   ]
  },
  {
   "cell_type": "code",
   "execution_count": 26,
   "metadata": {},
   "outputs": [],
   "source": [
    "vectors = generate_orthonormal_vectors(\n",
    "    axis = (0, 0, -1),\n",
    "    angle_step_rad = np.deg2rad(120),\n",
    "    start_vector=(1, 0, 0)) # algined with x\n",
    "\n",
    "visualize_vectors(vectors)\n",
    "\n",
    "# Start vector sets the first spoke"
   ]
  },
  {
   "cell_type": "code",
   "execution_count": 28,
   "metadata": {},
   "outputs": [
    {
     "name": "stdout",
     "output_type": "stream",
     "text": [
      "Num R:  14\n",
      "Press [esc] inside viewer to step through views\n",
      "Look at the blue z-axis of the view frame, it will go around starting in line with [0, 0, -1]\n",
      "Large frame is staionary world frame\n"
     ]
    },
    {
     "ename": "KeyboardInterrupt",
     "evalue": "",
     "output_type": "error",
     "traceback": [
      "\u001b[31m---------------------------------------------------------------------------\u001b[39m",
      "\u001b[31mKeyboardInterrupt\u001b[39m                         Traceback (most recent call last)",
      "\u001b[36mCell\u001b[39m\u001b[36m \u001b[39m\u001b[32mIn[28]\u001b[39m\u001b[32m, line 20\u001b[39m\n\u001b[32m     18\u001b[39m \u001b[38;5;28mprint\u001b[39m(\u001b[33m\"\u001b[39m\u001b[33mLarge frame is staionary world frame\u001b[39m\u001b[33m\"\u001b[39m)\n\u001b[32m     19\u001b[39m \u001b[38;5;28;01mfor\u001b[39;00m R \u001b[38;5;129;01min\u001b[39;00m R_list:\n\u001b[32m---> \u001b[39m\u001b[32m20\u001b[39m     \u001b[43mvisualize_frames\u001b[49m\u001b[43m(\u001b[49m\u001b[43mR\u001b[49m\u001b[43m,\u001b[49m\u001b[43m \u001b[49m\u001b[43mscale\u001b[49m\u001b[43m=\u001b[49m\u001b[32;43m1\u001b[39;49m\u001b[43m,\u001b[49m\u001b[43m \u001b[49m\u001b[43monly_z\u001b[49m\u001b[43m=\u001b[49m\u001b[38;5;28;43;01mFalse\u001b[39;49;00m\u001b[43m)\u001b[49m\n",
      "\u001b[36mFile \u001b[39m\u001b[32m~/python_ws/bam_reachability/bam_reachability/generators/view_generators.py:265\u001b[39m, in \u001b[36mvisualize_frames\u001b[39m\u001b[34m(R_list, scale, only_z)\u001b[39m\n\u001b[32m    262\u001b[39m ref_frame = o3d.geometry.TriangleMesh.create_coordinate_frame(size=\u001b[32m0.1\u001b[39m * \u001b[32m2\u001b[39m)\n\u001b[32m    263\u001b[39m geometries.append(ref_frame)\n\u001b[32m--> \u001b[39m\u001b[32m265\u001b[39m \u001b[43mo3d\u001b[49m\u001b[43m.\u001b[49m\u001b[43mvisualization\u001b[49m\u001b[43m.\u001b[49m\u001b[43mdraw_geometries\u001b[49m\u001b[43m(\u001b[49m\u001b[43mgeometries\u001b[49m\u001b[43m)\u001b[49m\n",
      "\u001b[31mKeyboardInterrupt\u001b[39m: "
     ]
    }
   ],
   "source": [
    "# We combine the deviation and orthonormal vectors to generate views.\n",
    "\n",
    "# The deviation vector is the z_axis of the frame, the orthonormal vector beacomes the x_axis \n",
    "\n",
    "# Very cool you will see it first go straight up\n",
    "# and then it goes 45 degs down, and spins around\n",
    "# then it goes another 45 down to 90, and spins around \n",
    "R_list = view_generator(\n",
    "    inital_view=[0, 0, -1],\n",
    "    hemisphere_angle=np.deg2rad(90),\n",
    "    view_step=np.deg2rad(45),\n",
    "    rotation_step=np.deg2rad(360)\n",
    ")\n",
    "visualize_frames(R_list, scale=0.1, only_z=True)\n",
    "print(\"Num R: \", len(R_list))\n",
    "print(\"Press [esc] inside viewer to step through views\")\n",
    "print(\"Look at the blue z-axis of the view frame, it will go around starting in line with [0, 0, -1]\")\n",
    "print(\"Large frame is staionary world frame\")\n",
    "for R in R_list:\n",
    "    visualize_frames(R, scale=1, only_z=False)"
   ]
  },
  {
   "cell_type": "code",
   "execution_count": 27,
   "metadata": {},
   "outputs": [
    {
     "ename": "KeyboardInterrupt",
     "evalue": "",
     "output_type": "error",
     "traceback": [
      "\u001b[31m---------------------------------------------------------------------------\u001b[39m",
      "\u001b[31mKeyboardInterrupt\u001b[39m                         Traceback (most recent call last)",
      "\u001b[36mCell\u001b[39m\u001b[36m \u001b[39m\u001b[32mIn[27]\u001b[39m\u001b[32m, line 10\u001b[39m\n\u001b[32m      3\u001b[39m R_list = view_generator(\n\u001b[32m      4\u001b[39m     inital_view=[\u001b[32m0\u001b[39m, \u001b[32m0\u001b[39m, \u001b[32m1\u001b[39m],\n\u001b[32m      5\u001b[39m     hemisphere_angle=np.deg2rad(\u001b[32m90\u001b[39m),\n\u001b[32m      6\u001b[39m     view_step=np.deg2rad(\u001b[32m45\u001b[39m),\n\u001b[32m      7\u001b[39m     rotation_step=np.deg2rad(\u001b[32m45\u001b[39m)\n\u001b[32m      8\u001b[39m )\n\u001b[32m      9\u001b[39m \u001b[38;5;28;01mfor\u001b[39;00m R \u001b[38;5;129;01min\u001b[39;00m R_list:\n\u001b[32m---> \u001b[39m\u001b[32m10\u001b[39m     \u001b[43mvisualize_frames\u001b[49m\u001b[43m(\u001b[49m\u001b[43mR\u001b[49m\u001b[43m,\u001b[49m\u001b[43m \u001b[49m\u001b[43mscale\u001b[49m\u001b[43m=\u001b[49m\u001b[32;43m0.05\u001b[39;49m\u001b[43m)\u001b[49m\n",
      "\u001b[36mFile \u001b[39m\u001b[32m~/python_ws/bam_reachability/bam_reachability/generators/view_generators.py:265\u001b[39m, in \u001b[36mvisualize_frames\u001b[39m\u001b[34m(R_list, scale, only_z)\u001b[39m\n\u001b[32m    262\u001b[39m ref_frame = o3d.geometry.TriangleMesh.create_coordinate_frame(size=\u001b[32m0.1\u001b[39m * \u001b[32m2\u001b[39m)\n\u001b[32m    263\u001b[39m geometries.append(ref_frame)\n\u001b[32m--> \u001b[39m\u001b[32m265\u001b[39m \u001b[43mo3d\u001b[49m\u001b[43m.\u001b[49m\u001b[43mvisualization\u001b[49m\u001b[43m.\u001b[49m\u001b[43mdraw_geometries\u001b[49m\u001b[43m(\u001b[49m\u001b[43mgeometries\u001b[49m\u001b[43m)\u001b[49m\n",
      "\u001b[31mKeyboardInterrupt\u001b[39m: "
     ]
    }
   ],
   "source": [
    "# Now in axis rotation is set to 45, you will see it stay on a certain z view for 8 steps\n",
    "# and the x and y axis will change. Keep your eyes on the blue z axis\n",
    "R_list = view_generator(\n",
    "    inital_view=[0, 0, 1],\n",
    "    hemisphere_angle=np.deg2rad(90),\n",
    "    view_step=np.deg2rad(45),\n",
    "    rotation_step=np.deg2rad(45)\n",
    ")\n",
    "for R in R_list:\n",
    "    visualize_frames(R, scale=0.05)"
   ]
  }
 ],
 "metadata": {
  "kernelspec": {
   "display_name": "py_reachability",
   "language": "python",
   "name": "python3"
  },
  "language_info": {
   "codemirror_mode": {
    "name": "ipython",
    "version": 3
   },
   "file_extension": ".py",
   "mimetype": "text/x-python",
   "name": "python",
   "nbconvert_exporter": "python",
   "pygments_lexer": "ipython3",
   "version": "3.12.3"
  }
 },
 "nbformat": 4,
 "nbformat_minor": 2
}

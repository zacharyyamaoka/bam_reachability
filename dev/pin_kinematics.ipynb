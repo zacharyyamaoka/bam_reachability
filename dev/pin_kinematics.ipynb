{
 "cells": [
  {
   "cell_type": "markdown",
   "metadata": {},
   "source": [
    "Example robots come from example-robot-data package\n",
    "\n",
    "https://github.com/Gepetto/example-robot-data"
   ]
  },
  {
   "cell_type": "code",
   "execution_count": 2,
   "metadata": {},
   "outputs": [],
   "source": [
    "import example_robot_data\n",
    "import pinocchio as pin"
   ]
  },
  {
   "cell_type": "markdown",
   "metadata": {},
   "source": [
    "One Option is to manually point to the directory. When you install with robot_pkg, it seems to install in /opt/openrobots/share/\n",
    "\n",
    "The urdf_path should point exactly to the `.urdf` file. The mesh_dir should point to the folder such that the `<mesh filename=\"package://example-robot-data/robots...>` can resolve\n",
    "\n",
    "```xml\n",
    "<visual>\n",
    "    <origin rpy=\"0 0 0\" xyz=\"0 0 0\"/>\n",
    "    <geometry>\n",
    "    <mesh filename=\"package://example-robot-data/robots/solo_description/meshes/stl/solo12/solo_12_base.stl\"/>\n",
    "    </geometry>\n",
    "    <material name=\"grey\">\n",
    "    <color rgba=\"0.8 0.8 0.8 1.0\"/>\n",
    "    </material>\n",
    "</visual>\n",
    "```"
   ]
  },
  {
   "cell_type": "code",
   "execution_count": null,
   "metadata": {},
   "outputs": [
    {
     "name": "stdout",
     "output_type": "stream",
     "text": [
      "Nb joints = 14 (nq=19,nv=18)\n",
      "  Joint 0 universe: parent=0\n",
      "  Joint 1 root_joint: parent=0\n",
      "  Joint 2 FL_HAA: parent=1\n",
      "  Joint 3 FL_HFE: parent=2\n",
      "  Joint 4 FL_KFE: parent=3\n",
      "  Joint 5 FR_HAA: parent=1\n",
      "  Joint 6 FR_HFE: parent=5\n",
      "  Joint 7 FR_KFE: parent=6\n",
      "  Joint 8 HL_HAA: parent=1\n",
      "  Joint 9 HL_HFE: parent=8\n",
      "  Joint 10 HL_KFE: parent=9\n",
      "  Joint 11 HR_HAA: parent=1\n",
      "  Joint 12 HR_HFE: parent=11\n",
      "  Joint 13 HR_KFE: parent=12\n",
      "\n"
     ]
    }
   ],
   "source": [
    "mesh_dir = \"/opt/openrobots/share/\" # should be parent directory for mesh file name\n",
    "urdf_model_path = \"/opt/openrobots/share/example-robot-data/robots/solo_description/robots/solo12.urdf\" \n",
    "\n",
    "model, collision_model, visual_model = pin.buildModelsFromUrdf(urdf_model_path, mesh_dir, pin.JointModelFreeFlyer())\n",
    "print(model)"
   ]
  },
  {
   "cell_type": "code",
   "execution_count": 20,
   "metadata": {},
   "outputs": [
    {
     "name": "stdout",
     "output_type": "stream",
     "text": [
      "/local/robotpkg/var/tmp/robotpkg/robots/py-example-robot-data/work/example-robot-data-4.2.0/robots\n",
      "/opt/openrobots/share/example-robot-data/robots\n"
     ]
    }
   ],
   "source": [
    "# The package is also aware of the install paths\n",
    "from example_robot_data.robots_loader import EXAMPLE_ROBOT_DATA_SOURCE_DIR, EXAMPLE_ROBOT_DATA_MODEL_DIR\n",
    "print(EXAMPLE_ROBOT_DATA_SOURCE_DIR)\n",
    "print(EXAMPLE_ROBOT_DATA_MODEL_DIR)\n"
   ]
  },
  {
   "cell_type": "code",
   "execution_count": 35,
   "metadata": {},
   "outputs": [
    {
     "name": "stdout",
     "output_type": "stream",
     "text": [
      "Nb joints = 7 (nq=6,nv=6)\n",
      "  Joint 0 universe: parent=0\n",
      "  Joint 1 shoulder_pan_joint: parent=0\n",
      "  Joint 2 shoulder_lift_joint: parent=1\n",
      "  Joint 3 elbow_joint: parent=2\n",
      "  Joint 4 wrist_1_joint: parent=3\n",
      "  Joint 5 wrist_2_joint: parent=4\n",
      "  Joint 6 wrist_3_joint: parent=5\n",
      "\n",
      "<pinocchio.pinocchio_pywrap_default.Data object at 0x2eb3bc60>\n"
     ]
    }
   ],
   "source": [
    "# So you can directly load with helpers\n",
    "robot = example_robot_data.load('ur5')\n",
    "model = robot.model\n",
    "data = model.createData()\n",
    "\n",
    "print(model)\n",
    "print(data)\n",
    "\n",
    "\n",
    "\n",
    "\n",
    "\n",
    "\n"
   ]
  },
  {
   "cell_type": "code",
   "execution_count": 58,
   "metadata": {},
   "outputs": [
    {
     "name": "stdout",
     "output_type": "stream",
     "text": [
      "Joint ID 0: universe\n",
      "Joint ID 1: shoulder_pan_joint\n",
      "Joint ID 2: shoulder_lift_joint\n",
      "Joint ID 3: elbow_joint\n",
      "Joint ID 4: wrist_1_joint\n",
      "Joint ID 5: wrist_2_joint\n",
      "Joint ID 6: wrist_3_joint\n"
     ]
    }
   ],
   "source": [
    "for i, name in enumerate(model.names):\n",
    "    print(f\"Joint ID {i}: {name}\")"
   ]
  },
  {
   "cell_type": "code",
   "execution_count": 59,
   "metadata": {},
   "outputs": [
    {
     "data": {
      "text/plain": [
       "'wrist_3_joint'"
      ]
     },
     "execution_count": 59,
     "metadata": {},
     "output_type": "execute_result"
    }
   ],
   "source": [
    "model.names[6]"
   ]
  },
  {
   "cell_type": "code",
   "execution_count": 52,
   "metadata": {},
   "outputs": [
    {
     "name": "stdout",
     "output_type": "stream",
     "text": [
      "[FrameId] frame_name - frame_type - parent_joint\n",
      "[0] universe - FIXED_JOINT - 0\n",
      "[1] world - BODY - 0\n",
      "[2] world_joint - FIXED_JOINT - 0\n",
      "[3] base_link - BODY - 0\n",
      "[4] base_link-base_fixed_joint - FIXED_JOINT - 0\n",
      "[5] base - BODY - 0\n",
      "[6] shoulder_pan_joint - JOINT - 1\n",
      "[7] shoulder_link - BODY - 1\n",
      "[8] shoulder_lift_joint - JOINT - 2\n",
      "[9] upper_arm_link - BODY - 2\n",
      "[10] elbow_joint - JOINT - 3\n",
      "[11] forearm_link - BODY - 3\n",
      "[12] wrist_1_joint - JOINT - 4\n",
      "[13] wrist_1_link - BODY - 4\n",
      "[14] wrist_2_joint - JOINT - 5\n",
      "[15] wrist_2_link - BODY - 5\n",
      "[16] wrist_3_joint - JOINT - 6\n",
      "[17] wrist_3_link - BODY - 6\n",
      "[18] ee_fixed_joint - FIXED_JOINT - 6\n",
      "[19] ee_link - BODY - 6\n",
      "[20] wrist_3_link-tool0_fixed_joint - FIXED_JOINT - 6\n",
      "[21] tool0 - BODY - 6\n"
     ]
    }
   ],
   "source": [
    "print(f\"[FrameId] frame_name - frame_type - parent_joint\")\n",
    "\n",
    "for i, frame in enumerate(model.frames):\n",
    "    print(f\"[{i}] {frame.name} - {frame.type} - {frame.parentJoint}\")\n"
   ]
  },
  {
   "cell_type": "code",
   "execution_count": 48,
   "metadata": {},
   "outputs": [
    {
     "name": "stdout",
     "output_type": "stream",
     "text": [
      "7\n",
      "7\n",
      "7\n"
     ]
    }
   ],
   "source": [
    "print(model.getJointId(\"wrist_3_link\"))\n",
    "print(model.getJointId(\"ee_link\"))\n",
    "print(model.getJointId(\"tool0\"))\n"
   ]
  },
  {
   "cell_type": "code",
   "execution_count": 49,
   "metadata": {},
   "outputs": [
    {
     "name": "stdout",
     "output_type": "stream",
     "text": [
      "6\n",
      "6\n",
      "6\n"
     ]
    }
   ],
   "source": [
    "print(model.frames[model.getFrameId(\"tool0\")].parentJoint)\n",
    "print(model.frames[model.getFrameId(\"wrist_3_link\")].parentJoint)\n",
    "print(model.frames[model.getFrameId(\"ee_link\")].parentJoint)\n"
   ]
  },
  {
   "cell_type": "code",
   "execution_count": 42,
   "metadata": {},
   "outputs": [
    {
     "name": "stdout",
     "output_type": "stream",
     "text": [
      "joint_id 7\n",
      "frame_id 21\n",
      "parent_joint_id 6\n"
     ]
    }
   ],
   "source": [
    "joint_id = model.getJointId(\"tool0\")\n",
    "frame_id = model.getFrameId(\"tool0\")\n",
    "parent_joint_id = model.frames[frame_id].parentJoint\n",
    "\n",
    "print(\"joint_id\", joint_id)\n",
    "print(\"frame_id\", frame_id)\n",
    "print(\"parent_joint_id\", parent_joint_id)"
   ]
  },
  {
   "cell_type": "code",
   "execution_count": 46,
   "metadata": {},
   "outputs": [
    {
     "name": "stdout",
     "output_type": "stream",
     "text": [
      "  R =\n",
      "          -1            0  9.79328e-12\n",
      "           0            1            0\n",
      "-9.79328e-12            0           -1\n",
      "  p =   0.81725   0.10915 -0.005491\n",
      "\n",
      "  R =\n",
      "1 0 0\n",
      "0 1 0\n",
      "0 0 1\n",
      "  p = 0 0 0\n",
      "\n",
      "\n",
      "  R =\n",
      "          -1            0  9.79328e-12\n",
      "           0            1            0\n",
      "-9.79328e-12            0           -1\n",
      "  p =   0.81725   0.10915 -0.005491\n",
      "\n",
      "  R =\n",
      "          -1 -9.79328e-12  4.79541e-23\n",
      "           0  4.89664e-12            1\n",
      "-9.79328e-12            1 -4.89664e-12\n",
      "  p =   0.81725   0.19145 -0.005491\n",
      "\n"
     ]
    }
   ],
   "source": [
    "q = pin.neutral(model)\n",
    "# BUG: this doesn't update the frame placements \n",
    "pin.forwardKinematics(model, data, q) # set starting position\n",
    "T_joint = data.oMi[parent_joint_id]\n",
    "T_frame = data.oMf[frame_id]\n",
    "\n",
    "print(T_joint)\n",
    "print(T_frame)\n",
    "print(\"\")\n",
    "pin.framesForwardKinematics(model, data, q)\n",
    "T_joint = data.oMi[parent_joint_id]\n",
    "T_frame = data.oMf[frame_id]\n",
    "\n",
    "print(T_joint)\n",
    "print(T_frame)\n"
   ]
  },
  {
   "cell_type": "markdown",
   "metadata": {},
   "source": [
    "One issue is that the frames and joints are different! what to do....\n",
    "\n",
    "The more general solution is to do with with frames. beacuse then you can solve the IK between any two links... you can use caching as well...\n",
    "\n",
    "the jacobean can always be calculated via the 6th joint...\n",
    "\n",
    "so You can pass in the IK tip with what ever, but then I need to transfrom from IK tip to Jacobean I think no?\n",
    "\n"
   ]
  },
  {
   "cell_type": "code",
   "execution_count": 54,
   "metadata": {},
   "outputs": [
    {
     "name": "stdout",
     "output_type": "stream",
     "text": [
      "  R =\n",
      "          -1            0  9.79328e-12\n",
      "           0            1            0\n",
      "-9.79328e-12            0           -1\n",
      "  p =   0.81725   0.10915 -0.005491\n",
      "\n",
      "  R =\n",
      "          -1            0  9.79328e-12\n",
      "           0            1            0\n",
      "-9.79328e-12            0           -1\n",
      "  p =   0.81725   0.10915 -0.005491\n",
      "\n"
     ]
    }
   ],
   "source": [
    "pin.framesForwardKinematics(model, data, q)\n",
    "print(data.oMf[model.getFrameId(\"wrist_3_joint\")])\n",
    "print(data.oMf[model.getFrameId(\"wrist_3_link\")])"
   ]
  },
  {
   "cell_type": "code",
   "execution_count": null,
   "metadata": {},
   "outputs": [],
   "source": []
  }
 ],
 "metadata": {
  "kernelspec": {
   "display_name": "py_reachability",
   "language": "python",
   "name": "python3"
  },
  "language_info": {
   "codemirror_mode": {
    "name": "ipython",
    "version": 3
   },
   "file_extension": ".py",
   "mimetype": "text/x-python",
   "name": "python",
   "nbconvert_exporter": "python",
   "pygments_lexer": "ipython3",
   "version": "3.12.3"
  }
 },
 "nbformat": 4,
 "nbformat_minor": 2
}
